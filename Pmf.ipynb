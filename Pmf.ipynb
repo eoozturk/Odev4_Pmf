{
  "nbformat": 4,
  "nbformat_minor": 0,
  "metadata": {
    "colab": {
      "name": "Pmf.ipynb",
      "version": "0.3.2",
      "provenance": [],
      "collapsed_sections": [],
      "include_colab_link": true
    },
    "kernelspec": {
      "name": "python3",
      "display_name": "Python 3"
    }
  },
  "cells": [
    {
      "cell_type": "markdown",
      "metadata": {
        "id": "view-in-github",
        "colab_type": "text"
      },
      "source": [
        "<a href=\"https://colab.research.google.com/github/eoozturk/Pmf/blob/master/Pmf.ipynb\" target=\"_parent\"><img src=\"https://colab.research.google.com/assets/colab-badge.svg\" alt=\"Open In Colab\"/></a>"
      ]
    },
    {
      "cell_type": "markdown",
      "metadata": {
        "id": "KaZVIjCtW0lR",
        "colab_type": "text"
      },
      "source": [
        "**Soru: Olasılık Kütle Fonksiyonu**\n",
        "\n",
        "Bir madeni para 4 kez atılıyor. Paranın tura gelmesi durumuna ait olan olasılık kütle fonksiyonunu (kesikli olasılık dağılımını) gösteriniz.\n",
        "\n",
        "**Çözüm:**\n",
        "\n",
        "Paranın Tura Gelme Durumları:\n",
        "\n",
        "{YYYY; TYYY,YTYY,YYTY,YYYT; TTYY,TYTY,TYYT,YTTY,YYTT,YTYT; TTTY,TYTT,TTYT,YTTT ;TTTT}\n",
        "\n",
        "Hiç Tura Gelmemesi:\n",
        "\n",
        "P(X=0)= 1/2x1/2x1/2x1/2= 1/16\n",
        "\n",
        "Bir Kere Tura Gelmesi:\n",
        "\n",
        "P(X=1)= 4x1/2x1/2x1/2x1/2= 4/16\n",
        "\n",
        "İki Kere Tura Gelmesi:\n",
        "\n",
        "P(X=2)= 6x1/2x1/2x1/2x1/2= 6/16\n",
        "\n",
        "Üç Kere Tura Gelmesi:\n",
        "\n",
        "P(X=3)= 4x1/2x1/2x1/2x1/2= 4/16\n",
        "\n",
        "Dört Kere Tura Gelmesi:\n",
        "\n",
        "P(X=4)= 1/2x1/2x1/2x1/2= 1/16\n",
        "\n",
        "**Açıklama:**\n",
        "\n",
        "Bir rastgele değişkeninin olanaklı değerlerinin sayısı sonlu veya sayılabilir ise X’ e kesikli rastgele değişken denir.  X kesikli bir rastgele değişken olduğunda, \"fx(X) = P(X=x)\" fonksiyonuna rastgele değişkenin olasılık kütle fonksiyonu denir.\n",
        "\n",
        "Soruda rastgele değişken X olursa, X paranın tura gelmelerinin sayısıdır. Yani X={0,1,2,3,4} olur. Sırasıyla X'in bu değerleri için paranın tura gelme olasılıkları hesaplanır. Hesaplama sırasında 1,2 ve 3 kere tura gelme durumlarında paranın tura gelmesi farklı şekillerde olabileceğinden dolayı tüm tura gelme durumlarının sayısı olasılık değerleri ile çarpılır. Tüm bu hesaplamalardan sonra olasılık kütle fonksiyonu elde edilir."
      ]
    },
    {
      "cell_type": "code",
      "metadata": {
        "id": "CkN4n06VWv5L",
        "colab_type": "code",
        "outputId": "ffa7ee8a-a897-4fc8-d1c6-0b1297a2953c",
        "colab": {
          "base_uri": "https://localhost:8080/",
          "height": 105
        }
      },
      "source": [
        "# Emre Ozan Öztürk\n",
        "\n",
        "def pmf(n):\n",
        "  \n",
        "  px0= n*n*n*n # Hiç Tura Gelmemesi Durumu\n",
        "  \n",
        "  px1= 4*n*n*n*n # Bir Ker Tura Gelmesi Durumu\n",
        "  \n",
        "  px2= 6*n*n*n*n # İki Kere Tura Gelmesi Durumu\n",
        "  \n",
        "  px3= 4*n*n*n*n # Üç Kere Tura Gelmesi Durumu\n",
        "  \n",
        "  px4= n*n*n*n # Dört Kere Tura Gelmesi Durumu\n",
        "  \n",
        "  sList=[px0,px1,px2,px3,px4] # Tüm Sonuçların List'e Eklenmesi\n",
        "  \n",
        "  return sList\n",
        "\n",
        "yList=pmf(0.5)\n",
        "\n",
        "print(\"Hiç Tura Gelmeme Durumu, P(X=0)= 1/2*1/2*1/2*1/2=\",yList[0])\n",
        "print(\"1 Kere Tura Gelme Durumu, P(X=1)= 4*1/2*1/2*1/2*1/2=\",yList[1])\n",
        "print(\"2 Kere Tura Gelme Durumu, P(X=2)= 6*1/2*1/2*1/2*1/2=\",yList[2])\n",
        "print(\"3 Kere Tura Gelme Durumu, P(X=3)= 4*1/2*1/2*1/2*1/2=\",yList[3])\n",
        "print(\"4 Kere Tura Gelme Durumu, P(X=4)= 1/2*1/2*1/2*1/2=\",yList[4])"
      ],
      "execution_count": 0,
      "outputs": [
        {
          "output_type": "stream",
          "text": [
            "Hiç Tura Gelmeme Durumu, P(X=0)= 1/2*1/2*1/2*1/2= 0.0625\n",
            "1 Kere Tura Gelme Durumu, P(X=1)= 4*1/2*1/2*1/2*1/2= 0.25\n",
            "2 Kere Tura Gelme Durumu, P(X=2)= 6*1/2*1/2*1/2*1/2= 0.375\n",
            "3 Kere Tura Gelme Durumu, P(X=3)= 4*1/2*1/2*1/2*1/2= 0.25\n",
            "4 Kere Tura Gelme Durumu, P(X=4)= 1/2*1/2*1/2*1/2= 0.0625\n"
          ],
          "name": "stdout"
        }
      ]
    }
  ]
}